{
  "nbformat": 4,
  "nbformat_minor": 0,
  "metadata": {
    "colab": {
      "name": "Untitled1.ipynb",
      "provenance": [],
      "collapsed_sections": [],
      "authorship_tag": "ABX9TyNEmmBtuV5cDmBBoneX/aTL",
      "include_colab_link": true
    },
    "kernelspec": {
      "name": "python3",
      "display_name": "Python 3"
    },
    "language_info": {
      "name": "python"
    }
  },
  "cells": [
    {
      "cell_type": "markdown",
      "metadata": {
        "id": "view-in-github",
        "colab_type": "text"
      },
      "source": [
        "<a href=\"https://colab.research.google.com/github/Linzili1235/GU-ANLY580-PROJECT/blob/main/Blockchain_assignment1.ipynb\" target=\"_parent\"><img src=\"https://colab.research.google.com/assets/colab-badge.svg\" alt=\"Open In Colab\"/></a>"
      ]
    },
    {
      "cell_type": "markdown",
      "source": [
        "Jingyi Qi's First Assignment (Formed a group but not discussed in this assignemnt)"
      ],
      "metadata": {
        "id": "Oq4Q3BahjtXF"
      }
    },
    {
      "cell_type": "code",
      "execution_count": 8,
      "metadata": {
        "id": "5hI7AAFdWcP3"
      },
      "outputs": [],
      "source": [
        "import hashlib as hasher\n",
        "import random as rand\n",
        "import time\n",
        "import datetime as date\n",
        "import ipyparallel as ipp\n",
        "import numpy as np\n",
        "import pandas as pd\n",
        "import matplotlib.pyplot as plt"
      ]
    },
    {
      "cell_type": "markdown",
      "source": [
        "# New Section"
      ],
      "metadata": {
        "id": "8CiMkdOQYRhR"
      }
    },
    {
      "cell_type": "code",
      "source": [
        "class Block:\n",
        "  def __init__(self,index,timestamp,data,previous_hash,nonce=0):\n",
        "    self.index = index\n",
        "    self.timestamp = timestamp\n",
        "    self.data = data\n",
        "    self.previous_hash = previous_hash\n",
        "    self.nonce = nonce #set as default not work in the first function\n",
        "    self.hash = self.hash_block()\n",
        "\n",
        "  def hash_block(self):\n",
        "    sha = hasher.sha256()\n",
        "    block_hash = (str(self.index) + str(self.timestamp) +\n",
        "                  str(self.data) +\n",
        "                  str(self.previous_hash) + \n",
        "                  str(self.nonce))\n",
        "    block_hash = block_hash.encode('utf-8')\n",
        "    sha.update(block_hash)\n",
        "    return sha.hexdigest()\n",
        "\n"
      ],
      "metadata": {
        "id": "20TcX37UYgxE"
      },
      "execution_count": 9,
      "outputs": []
    },
    {
      "cell_type": "code",
      "source": [
        "def block_validation(index, block_time, data, previous_hash):\n",
        "  new_block = Block(index, block_time, data, previous_hash)\n",
        "  check_string = '260b5039394689051b599484df495d79a6a33d22a3ca37af72656d8cdfc6fcd5'\n",
        "  print_statement = \"This is a valid Block\" if str(new_block.hash) == check_string else \"Please Check your work, this is incorrect.\" \n",
        "  print(print_statement)\n",
        "\n",
        "block_time = '2022-02-13 23:59:00'\n",
        "data = 'Blockchain For Data Science'\n",
        "previous_hash = '9136cfeb0c77b41e1e86cb9940ca9bb65f7aca4e8e366a8ecf9226b735e0c323'\n",
        "index = 1\n",
        " \n",
        "block_validation(index, block_time, data, previous_hash)\n"
      ],
      "metadata": {
        "colab": {
          "base_uri": "https://localhost:8080/"
        },
        "id": "pJie5x2MbzkH",
        "outputId": "8217adc5-3d4e-4bb3-9197-40aae8414727"
      },
      "execution_count": 10,
      "outputs": [
        {
          "output_type": "stream",
          "name": "stdout",
          "text": [
            "This is a valid Block\n"
          ]
        }
      ]
    },
    {
      "cell_type": "code",
      "source": [
        "def genesis_block():\n",
        "  return Block(0,date.datetime.now(),'Genesis Block','0')"
      ],
      "metadata": {
        "id": "Vm5f_mwycL4V"
      },
      "execution_count": 13,
      "outputs": []
    },
    {
      "cell_type": "code",
      "source": [
        "def next_block(last_block,nonce=0):\n",
        "  this_index = last_block.index + 1\n",
        "  this_timestamp = date.datetime.now()\n",
        "  this_data = 'Block ' + str(this_index) + ' generated'\n",
        "  this_previous_hash = last_block.hash\n",
        "  return (Block(this_index,this_timestamp,this_data,this_previous_hash))\n"
      ],
      "metadata": {
        "id": "d0QQ4-5CcxGl"
      },
      "execution_count": 16,
      "outputs": []
    },
    {
      "cell_type": "code",
      "source": [
        "def genesis_validation(genesis_block):\n",
        "  block_1 = next_block(genesis_block)\n",
        "  if block_1.index == 1 and block_1.data == \"Block 1 generated\" and block_1.previous_hash == genesis_block.hash and str(type(block_1.timestamp)) == \"<class 'datetime.datetime'>\":\n",
        "    print(\"Valid Genesis block\" )\n",
        "  else:\n",
        "    print(\"Check the code, not a valid genesis block:(\")\n"
      ],
      "metadata": {
        "id": "KZjSzaLzc_dh"
      },
      "execution_count": 17,
      "outputs": []
    },
    {
      "cell_type": "code",
      "source": [
        "genesis_validation(genesis_block())"
      ],
      "metadata": {
        "colab": {
          "base_uri": "https://localhost:8080/"
        },
        "id": "N9BDcsE-ewtX",
        "outputId": "602d6d58-fff2-48fd-d2d0-d8f4f4d6775b"
      },
      "execution_count": 18,
      "outputs": [
        {
          "output_type": "stream",
          "name": "stdout",
          "text": [
            "Valid Genesis block\n"
          ]
        }
      ]
    },
    {
      "cell_type": "code",
      "source": [
        "#initialize with the genesis block as a list\n",
        "blockchain = [genesis_block()]\n",
        "\n",
        "#previous block points to the genesis block\n",
        "previous_block = blockchain[0]\n",
        "\n",
        "num_blocks = 10\n",
        "\n",
        "def complete_chain(num_blocks,blockchain,previous_block):\n",
        "  for i in range(num_blocks):\n",
        "    addedblock = next_block(previous_block) #that's the second block\n",
        "    blockchain.append(addedblock)\n",
        "    previous_block = addedblock\n",
        "    print('the block #{} is added to the blockchain'.format(addedblock.index))\n",
        "    print('Hash #{}\\n'.format(addedblock.hash))\n",
        "  "
      ],
      "metadata": {
        "id": "jxl4C07me1_n"
      },
      "execution_count": 22,
      "outputs": []
    },
    {
      "cell_type": "code",
      "source": [
        "#test\n",
        "complete_chain(num_blocks,blockchain,previous_block)"
      ],
      "metadata": {
        "colab": {
          "base_uri": "https://localhost:8080/"
        },
        "id": "lUyqKM21e2HY",
        "outputId": "ca87e289-23b3-4e70-a27f-d63bfbe7f370"
      },
      "execution_count": 23,
      "outputs": [
        {
          "output_type": "stream",
          "name": "stdout",
          "text": [
            "the block #1 is added to the blockchain\n",
            "Hash #234cb78047761fb690d846d035c55c80f6a0fa046b2b6a90cf904e3b7c83b4b2\n",
            "\n",
            "the block #2 is added to the blockchain\n",
            "Hash #0839e521f0c5f54b89f4e7a920ea6650f0ee0e9cbab994928b290d2eebe9f918\n",
            "\n",
            "the block #3 is added to the blockchain\n",
            "Hash #0dbe914f02133040c148903be33af786c897a871f1251639bfdd4be566fcf011\n",
            "\n",
            "the block #4 is added to the blockchain\n",
            "Hash #4539112280dc0ed2306c2e4c83cdc977061a85a8e5bdefee9be70b206a5c7b16\n",
            "\n",
            "the block #5 is added to the blockchain\n",
            "Hash #3f6c0621279c9a4fc01fb0d1586d805cf30a621739d2010579a12ad459656ad7\n",
            "\n",
            "the block #6 is added to the blockchain\n",
            "Hash #48d86ecf482aa0f08c6dd7e30652489f3c85e8fed34e49751f11cd8c5eef6aec\n",
            "\n",
            "the block #7 is added to the blockchain\n",
            "Hash #eff90aa4bb9fe694425cb8cb3e246bb234cfb499433588a201553d50e7e26ae2\n",
            "\n",
            "the block #8 is added to the blockchain\n",
            "Hash #16b9eccc707770676430ed92afed8fca800ca46f60b5c3f4f48fab592086609f\n",
            "\n",
            "the block #9 is added to the blockchain\n",
            "Hash #7e4b4c22d3e3000d8bbbd0b3d72bd7aa87081454e9923fbe58c31e6fcffafecf\n",
            "\n",
            "the block #10 is added to the blockchain\n",
            "Hash #d23395d7f62ac9f01a416edd88c23bc11dfd9791ede0e758840770fd959642d5\n",
            "\n"
          ]
        }
      ]
    },
    {
      "cell_type": "code",
      "source": [
        "def test_question_3(blockchain,num_blocks):\n",
        "  correct = True\n",
        "  if len(blockchain) != num_blocks +1:\n",
        "    correct = False\n",
        "  for i in range(len(blockchain)-1):\n",
        "    if blockchain[i+1].previous_hash != blockchain[i].hash:\n",
        "      correct = False\n",
        "      break\n",
        "  print_statement = 'PASSED!! Move on to the next Part' if correct else 'FAILED!! Try Again :('\n",
        "  print(print_statement)\n",
        "\n",
        "test_question_3(blockchain,num_blocks)"
      ],
      "metadata": {
        "colab": {
          "base_uri": "https://localhost:8080/"
        },
        "id": "mFCoJQLhiQ8r",
        "outputId": "6d6d8d90-327d-4dfb-8b50-6d20a1547f2a"
      },
      "execution_count": 24,
      "outputs": [
        {
          "output_type": "stream",
          "name": "stdout",
          "text": [
            "PASSED!! Move on to the next Part\n"
          ]
        }
      ]
    },
    {
      "cell_type": "code",
      "source": [
        "import nbconvert"
      ],
      "metadata": {
        "id": "UlCS7sGnkerl"
      },
      "execution_count": 25,
      "outputs": []
    },
    {
      "cell_type": "code",
      "source": [
        "%%shell\n",
        "jupyter nbconvert --to html /content/Assignment1.ipynb"
      ],
      "metadata": {
        "colab": {
          "base_uri": "https://localhost:8080/"
        },
        "id": "Q8VXD7qLkaAn",
        "outputId": "c9318617-192f-4893-8284-c308bec5f42c"
      },
      "execution_count": 31,
      "outputs": [
        {
          "output_type": "stream",
          "name": "stdout",
          "text": [
            "[NbConvertApp] Converting notebook /content/Assignment1.ipynb to html\n",
            "[NbConvertApp] Writing 293039 bytes to /content/Assignment1.html\n"
          ]
        },
        {
          "output_type": "execute_result",
          "data": {
            "text/plain": [
              ""
            ]
          },
          "metadata": {},
          "execution_count": 31
        }
      ]
    }
  ]
}