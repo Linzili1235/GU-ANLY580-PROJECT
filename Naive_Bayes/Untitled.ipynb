{
 "cells": [
  {
   "cell_type": "code",
   "execution_count": 112,
   "id": "bb72f83c",
   "metadata": {},
   "outputs": [],
   "source": [
    "import pandas as pd    ## for dataframes and related\n",
    "from sklearn.feature_extraction.text import CountVectorizer, TfidfVectorizer\n",
    "import matplotlib.pyplot as plt\n",
    "from sklearn.model_selection import train_test_split\n",
    "import random as rd\n",
    "from sklearn.metrics import confusion_matrix,plot_confusion_matrix,classification_report\n",
    "import graphviz\n",
    "from sklearn.metrics import accuracy_score,f1_score\n",
    "from sklearn.metrics import recall_score\n",
    "from sklearn.metrics import f1_score\n",
    "from sklearn.decomposition import LatentDirichletAllocation \n",
    "from sklearn.naive_bayes import MultinomialNB\n",
    "import numpy as np\n",
    "\n",
    "\n",
    "import seaborn as sns\n",
    "from sklearn.metrics.pairwise import euclidean_distances\n",
    "from sklearn.metrics.pairwise import cosine_similarity\n",
    "\n",
    "from random import sample\n",
    "from nltk.stem import PorterStemmer\n",
    "from sklearn import preprocessing\n"
   ]
  },
  {
   "cell_type": "code",
   "execution_count": 113,
   "id": "0ad0275b",
   "metadata": {},
   "outputs": [],
   "source": [
    "dataset = pd.read_csv('droppedDF.csv')"
   ]
  },
  {
   "cell_type": "code",
   "execution_count": 114,
   "id": "297a04fd",
   "metadata": {},
   "outputs": [
    {
     "data": {
      "text/html": [
       "<div>\n",
       "<style scoped>\n",
       "    .dataframe tbody tr th:only-of-type {\n",
       "        vertical-align: middle;\n",
       "    }\n",
       "\n",
       "    .dataframe tbody tr th {\n",
       "        vertical-align: top;\n",
       "    }\n",
       "\n",
       "    .dataframe thead th {\n",
       "        text-align: right;\n",
       "    }\n",
       "</style>\n",
       "<table border=\"1\" class=\"dataframe\">\n",
       "  <thead>\n",
       "    <tr style=\"text-align: right;\">\n",
       "      <th></th>\n",
       "      <th>Unnamed: 0</th>\n",
       "      <th>domain</th>\n",
       "      <th>title</th>\n",
       "      <th>selftext</th>\n",
       "    </tr>\n",
       "  </thead>\n",
       "  <tbody>\n",
       "    <tr>\n",
       "      <th>0</th>\n",
       "      <td>0</td>\n",
       "      <td>explainlikeimfive</td>\n",
       "      <td>ELI5: What exactly is Obamacare and what did i...</td>\n",
       "      <td>I understand what medicare is and everything b...</td>\n",
       "    </tr>\n",
       "    <tr>\n",
       "      <th>1</th>\n",
       "      <td>1</td>\n",
       "      <td>explainlikeimfive</td>\n",
       "      <td>ELI5 has defaulted!</td>\n",
       "      <td>We were informed yesterday by the reddit admin...</td>\n",
       "    </tr>\n",
       "    <tr>\n",
       "      <th>2</th>\n",
       "      <td>2</td>\n",
       "      <td>explainlikeimfive</td>\n",
       "      <td>The Five-Year-Old's Guide to the Galaxy</td>\n",
       "      <td>Below is a hand-picked collection of outstandi...</td>\n",
       "    </tr>\n",
       "    <tr>\n",
       "      <th>3</th>\n",
       "      <td>3</td>\n",
       "      <td>explainlikeimfive</td>\n",
       "      <td>ELI67 Please explain like I'm 67 the differenc...</td>\n",
       "      <td>I know this kind of breaks the rules, but I th...</td>\n",
       "    </tr>\n",
       "    <tr>\n",
       "      <th>4</th>\n",
       "      <td>4</td>\n",
       "      <td>explainlikeimfive</td>\n",
       "      <td>[META] Okay, this sub is slowly turning into /...</td>\n",
       "      <td>Questions here are supposed to be covering com...</td>\n",
       "    </tr>\n",
       "  </tbody>\n",
       "</table>\n",
       "</div>"
      ],
      "text/plain": [
       "  Unnamed: 0             domain  \\\n",
       "0          0  explainlikeimfive   \n",
       "1          1  explainlikeimfive   \n",
       "2          2  explainlikeimfive   \n",
       "3          3  explainlikeimfive   \n",
       "4          4  explainlikeimfive   \n",
       "\n",
       "                                               title  \\\n",
       "0  ELI5: What exactly is Obamacare and what did i...   \n",
       "1                                ELI5 has defaulted!   \n",
       "2            The Five-Year-Old's Guide to the Galaxy   \n",
       "3  ELI67 Please explain like I'm 67 the differenc...   \n",
       "4  [META] Okay, this sub is slowly turning into /...   \n",
       "\n",
       "                                            selftext  \n",
       "0  I understand what medicare is and everything b...  \n",
       "1  We were informed yesterday by the reddit admin...  \n",
       "2  Below is a hand-picked collection of outstandi...  \n",
       "3  I know this kind of breaks the rules, but I th...  \n",
       "4  Questions here are supposed to be covering com...  "
      ]
     },
     "execution_count": 114,
     "metadata": {},
     "output_type": "execute_result"
    }
   ],
   "source": [
    "dataset.head()"
   ]
  },
  {
   "cell_type": "code",
   "execution_count": 115,
   "id": "ef2bff95",
   "metadata": {},
   "outputs": [
    {
     "data": {
      "text/plain": [
       "{'AskReddit',\n",
       " 'GetMotivated',\n",
       " 'IAmA',\n",
       " 'Jokes',\n",
       " 'LifeProTips',\n",
       " 'Showerthoughts',\n",
       " 'books',\n",
       " 'explainlikeimfive',\n",
       " 'food',\n",
       " 'funny',\n",
       " 'movies',\n",
       " nan,\n",
       " 'pics',\n",
       " 'todayilearned',\n",
       " 'woahdude',\n",
       " 'worldnews'}"
      ]
     },
     "execution_count": 115,
     "metadata": {},
     "output_type": "execute_result"
    }
   ],
   "source": [
    "set(dataset['domain'])"
   ]
  },
  {
   "cell_type": "code",
   "execution_count": 116,
   "id": "9cfc3e63",
   "metadata": {},
   "outputs": [],
   "source": [
    "#first only with selftext\n",
    "Content_text = dataset['selftext']#.to_list()"
   ]
  },
  {
   "cell_type": "code",
   "execution_count": 117,
   "id": "b6aaf360",
   "metadata": {},
   "outputs": [
    {
     "data": {
      "text/plain": [
       "str"
      ]
     },
     "execution_count": 117,
     "metadata": {},
     "output_type": "execute_result"
    }
   ],
   "source": [
    "type(Content_text[0])"
   ]
  },
  {
   "cell_type": "code",
   "execution_count": 118,
   "id": "17b58d39",
   "metadata": {},
   "outputs": [],
   "source": [
    "import re\n",
    "\n",
    "#clean the text\n",
    "email_re = r\"\"\"(?:[a-z0-9!#$%&'*+/=?^_`{|}~-]+(?:\\.[a-z0-9!#$%&'*+/=?^_`{|}~-]+)*|\"(?:[\\x01-\\x08\\x0b\\x0c\\x0e-\\x1f\\x21\\x23-\\x5b\\x5d-\\x7f]|\\\\[\\x01-\\x09\\x0b\\x0c\\x0e-\\x7f])*\")@(?:(?:[a-z0-9](?:[a-z0-9-]*[a-z0-9])?\\.)+[a-z0-9](?:[a-z0-9-]*[a-z0-9])?|\\[(?:(?:25[0-5]|2[0-4][0-9]|[01]?[0-9][0-9]?)\\.){3}(?:25[0-5]|2[0-4][0-9]|[01]?[0-9][0-9]?|[a-z0-9-]*[a-z0-9]:(?:[\\x01-\\x08\\x0b\\x0c\\x0e-\\x1f\\x21-\\x5a\\x53-\\x7f]|\\\\[\\x01-\\x09\\x0b\\x0c\\x0e-\\x7f])+)\\])\"\"\"\n",
    "\n",
    "# replace = [ (pattern-to-replace, replacement),  ...]\n",
    "replace = [\n",
    "    (r\"<a[^>]*>(.*?)</a>\", r\"\\1\"),  # Matches most URLs\n",
    "    (email_re, \"email\"),            # Matches emails\n",
    "    (r\"(?<=\\d),(?=\\d)\", \"\"),        # Remove commas in numbers\n",
    "    (r\"\\d+\", \"numbr\"),              # Map digits to special token <numbr>\n",
    "    (r\"[\\t\\n\\r\\*\\.\\@\\,\\-\\/]\", \" \"),   # Punctuation and other junk\n",
    "    (r\"\\s+\", \" \")                   # Stips extra whitespace\n",
    "]\n",
    "\n",
    "for repl in replace:\n",
    "    text = [re.sub(repl[0], repl[1], str(text)) for text in Content_text]"
   ]
  },
  {
   "cell_type": "code",
   "execution_count": 119,
   "id": "937fd313",
   "metadata": {},
   "outputs": [],
   "source": [
    "Stemmer = PorterStemmer()\n",
    "def My_Stemmer(str1):\n",
    "    #delete ^letters\n",
    "    words = re.sub(r'[^A-Za-z]',\" \",str1).lower().split()\n",
    "    words = [Stemmer.stem(word) for word in words] ##input is word not sentence\n",
    "    return words"
   ]
  },
  {
   "cell_type": "code",
   "execution_count": 120,
   "id": "d4a4c33a",
   "metadata": {},
   "outputs": [],
   "source": [
    "MyCount = CountVectorizer(stop_words='english',tokenizer=My_Stemmer,lowercase=True)"
   ]
  },
  {
   "cell_type": "code",
   "execution_count": 121,
   "id": "8f44f94d",
   "metadata": {},
   "outputs": [
    {
     "name": "stderr",
     "output_type": "stream",
     "text": [
      "/Users/nicole/opt/anaconda3/lib/python3.9/site-packages/sklearn/feature_extraction/text.py:388: UserWarning: Your stop_words may be inconsistent with your preprocessing. Tokenizing the stop words generated tokens ['abov', 'afterward', 'alon', 'alreadi', 'alway', 'ani', 'anoth', 'anyon', 'anyth', 'anywher', 'becam', 'becaus', 'becom', 'befor', 'besid', 'cri', 'describ', 'dure', 'els', 'elsewher', 'empti', 'everi', 'everyon', 'everyth', 'everywher', 'fifti', 'formerli', 'forti', 'ha', 'henc', 'hereaft', 'herebi', 'hi', 'howev', 'hundr', 'inde', 'latterli', 'mani', 'meanwhil', 'moreov', 'mostli', 'nobodi', 'noon', 'noth', 'nowher', 'onc', 'onli', 'otherwis', 'ourselv', 'perhap', 'pleas', 'seriou', 'sever', 'sinc', 'sincer', 'sixti', 'someon', 'someth', 'sometim', 'somewher', 'themselv', 'thenc', 'thereaft', 'therebi', 'therefor', 'thi', 'thu', 'togeth', 'twelv', 'twenti', 'veri', 'wa', 'whatev', 'whenc', 'whenev', 'wherea', 'whereaft', 'wherebi', 'wherev', 'whi', 'yourselv'] not in stop_words.\n",
      "  warnings.warn('Your stop_words may be inconsistent with '\n"
     ]
    }
   ],
   "source": [
    "DTM1 = MyCount.fit_transform(Content_text.apply(lambda x: np.str_(x)))\n"
   ]
  },
  {
   "cell_type": "code",
   "execution_count": 122,
   "id": "c3cb789f",
   "metadata": {},
   "outputs": [],
   "source": [
    "\n",
    "##Convert DTM to DF\n",
    "ColNames= MyCount.get_feature_names()\n",
    "\n",
    "\n",
    "DF = pd.DataFrame(DTM1.toarray(),columns=ColNames)"
   ]
  },
  {
   "cell_type": "code",
   "execution_count": 123,
   "id": "3118b980",
   "metadata": {},
   "outputs": [
    {
     "data": {
      "text/plain": [
       "(4358, 20991)"
      ]
     },
     "execution_count": 123,
     "metadata": {},
     "output_type": "execute_result"
    }
   ],
   "source": [
    "DF.shape"
   ]
  },
  {
   "cell_type": "code",
   "execution_count": 124,
   "id": "083d75af",
   "metadata": {},
   "outputs": [],
   "source": [
    "#le = preprocessing.LabelEncoder()\n",
    "#dataset['domain'] = le.fit_transform(dataset['domain'].astype(str))\n",
    "dataset['domain'] = dataset['domain'].astype(str)"
   ]
  },
  {
   "cell_type": "code",
   "execution_count": 125,
   "id": "cd399b34",
   "metadata": {},
   "outputs": [
    {
     "data": {
      "text/html": [
       "<div>\n",
       "<style scoped>\n",
       "    .dataframe tbody tr th:only-of-type {\n",
       "        vertical-align: middle;\n",
       "    }\n",
       "\n",
       "    .dataframe tbody tr th {\n",
       "        vertical-align: top;\n",
       "    }\n",
       "\n",
       "    .dataframe thead th {\n",
       "        text-align: right;\n",
       "    }\n",
       "</style>\n",
       "<table border=\"1\" class=\"dataframe\">\n",
       "  <thead>\n",
       "    <tr style=\"text-align: right;\">\n",
       "      <th></th>\n",
       "      <th>Unnamed: 0</th>\n",
       "      <th>domain</th>\n",
       "      <th>title</th>\n",
       "      <th>selftext</th>\n",
       "    </tr>\n",
       "  </thead>\n",
       "  <tbody>\n",
       "    <tr>\n",
       "      <th>0</th>\n",
       "      <td>0</td>\n",
       "      <td>explainlikeimfive</td>\n",
       "      <td>ELI5: What exactly is Obamacare and what did i...</td>\n",
       "      <td>I understand what medicare is and everything b...</td>\n",
       "    </tr>\n",
       "    <tr>\n",
       "      <th>1</th>\n",
       "      <td>1</td>\n",
       "      <td>explainlikeimfive</td>\n",
       "      <td>ELI5 has defaulted!</td>\n",
       "      <td>We were informed yesterday by the reddit admin...</td>\n",
       "    </tr>\n",
       "    <tr>\n",
       "      <th>2</th>\n",
       "      <td>2</td>\n",
       "      <td>explainlikeimfive</td>\n",
       "      <td>The Five-Year-Old's Guide to the Galaxy</td>\n",
       "      <td>Below is a hand-picked collection of outstandi...</td>\n",
       "    </tr>\n",
       "    <tr>\n",
       "      <th>3</th>\n",
       "      <td>3</td>\n",
       "      <td>explainlikeimfive</td>\n",
       "      <td>ELI67 Please explain like I'm 67 the differenc...</td>\n",
       "      <td>I know this kind of breaks the rules, but I th...</td>\n",
       "    </tr>\n",
       "    <tr>\n",
       "      <th>4</th>\n",
       "      <td>4</td>\n",
       "      <td>explainlikeimfive</td>\n",
       "      <td>[META] Okay, this sub is slowly turning into /...</td>\n",
       "      <td>Questions here are supposed to be covering com...</td>\n",
       "    </tr>\n",
       "  </tbody>\n",
       "</table>\n",
       "</div>"
      ],
      "text/plain": [
       "  Unnamed: 0             domain  \\\n",
       "0          0  explainlikeimfive   \n",
       "1          1  explainlikeimfive   \n",
       "2          2  explainlikeimfive   \n",
       "3          3  explainlikeimfive   \n",
       "4          4  explainlikeimfive   \n",
       "\n",
       "                                               title  \\\n",
       "0  ELI5: What exactly is Obamacare and what did i...   \n",
       "1                                ELI5 has defaulted!   \n",
       "2            The Five-Year-Old's Guide to the Galaxy   \n",
       "3  ELI67 Please explain like I'm 67 the differenc...   \n",
       "4  [META] Okay, this sub is slowly turning into /...   \n",
       "\n",
       "                                            selftext  \n",
       "0  I understand what medicare is and everything b...  \n",
       "1  We were informed yesterday by the reddit admin...  \n",
       "2  Below is a hand-picked collection of outstandi...  \n",
       "3  I know this kind of breaks the rules, but I th...  \n",
       "4  Questions here are supposed to be covering com...  "
      ]
     },
     "execution_count": 125,
     "metadata": {},
     "output_type": "execute_result"
    }
   ],
   "source": [
    "dataset.head()"
   ]
  },
  {
   "cell_type": "code",
   "execution_count": 126,
   "id": "b26d1bfc",
   "metadata": {},
   "outputs": [],
   "source": [
    "DF['label'] = dataset['domain']"
   ]
  },
  {
   "cell_type": "code",
   "execution_count": 135,
   "id": "92b966bb",
   "metadata": {},
   "outputs": [],
   "source": [
    "TrainDF,TestDF = train_test_split(DF,test_size=0.3)\n"
   ]
  },
  {
   "cell_type": "code",
   "execution_count": 136,
   "id": "cc38611b",
   "metadata": {},
   "outputs": [],
   "source": [
    "Train_Label = TrainDF['label']\n",
    "Test_Label = TestDF['label']\n",
    "Trainset = TrainDF.drop(['label'],axis=1)\n",
    "Testset = TestDF.drop(['label'],axis=1)"
   ]
  },
  {
   "cell_type": "code",
   "execution_count": 137,
   "id": "d04a9344",
   "metadata": {},
   "outputs": [],
   "source": [
    "MyModelNB= MultinomialNB()\n",
    "\n",
    "NB1=MyModelNB.fit(Trainset, Train_Label)\n",
    "Prediction1 = MyModelNB.predict(Testset)\n",
    "\n",
    "\n"
   ]
  },
  {
   "cell_type": "code",
   "execution_count": 138,
   "id": "1918eb2e",
   "metadata": {},
   "outputs": [
    {
     "data": {
      "text/plain": [
       "0.5856269113149847"
      ]
     },
     "execution_count": 138,
     "metadata": {},
     "output_type": "execute_result"
    }
   ],
   "source": [
    "acc1 = accuracy_score(Test_Label,Prediction1) #accuracy is 0.5917\n",
    "acc1\n"
   ]
  },
  {
   "cell_type": "code",
   "execution_count": 139,
   "id": "c47f76ae",
   "metadata": {},
   "outputs": [
    {
     "data": {
      "text/plain": [
       "0.5365872286487705"
      ]
     },
     "execution_count": 139,
     "metadata": {},
     "output_type": "execute_result"
    }
   ],
   "source": [
    "f1 = f1_score(Test_Label,Prediction1,average='weighted')\n",
    "f1"
   ]
  },
  {
   "cell_type": "code",
   "execution_count": 140,
   "id": "3c8b9cd3",
   "metadata": {},
   "outputs": [
    {
     "data": {
      "image/png": "[encoded data removed]",
      "text/plain": [
       "<Figure size 432x288 with 1 Axes>"
      ]
     },
     "metadata": {
      "needs_background": "light"
     },
     "output_type": "display_data"
    }
   ],
   "source": [
    "prob1 = NB1.feature_log_prob_[8, :] #food\n",
    "\n",
    "indices = np.argsort(prob1)[::-1]\n",
    "prob1 = prob1[indices] #feature importance\n",
    "feature_names = ColNames\n",
    "feature_names = [feature_names[index] for index in indices.tolist()] #feature name\n",
    "\n",
    "plt.barh(feature_names[:10], prob1[:10],facecolor='seagreen',edgecolor='darkgreen',alpha=0.8)\n",
    "plt.title('Top 10 feature probability in Food label')\n",
    "plt.savefig('NB1.png')"
   ]
  },
  {
   "cell_type": "code",
   "execution_count": 141,
   "id": "e0787a0a",
   "metadata": {},
   "outputs": [
    {
     "data": {
      "text/plain": [
       "{'AskReddit',\n",
       " 'GetMotivated',\n",
       " 'IAmA',\n",
       " 'Jokes',\n",
       " 'LifeProTips',\n",
       " 'Showerthoughts',\n",
       " 'books',\n",
       " 'explainlikeimfive',\n",
       " 'food',\n",
       " 'funny',\n",
       " 'movies',\n",
       " 'pics',\n",
       " 'woahdude'}"
      ]
     },
     "execution_count": 141,
     "metadata": {},
     "output_type": "execute_result"
    }
   ],
   "source": [
    "set(Train_Label)"
   ]
  },
  {
   "cell_type": "code",
   "execution_count": 142,
   "id": "d4cac17f",
   "metadata": {},
   "outputs": [
    {
     "data": {
      "image/png": "[encoded data removed]",
      "text/plain": [
       "<Figure size 432x288 with 2 Axes>"
      ]
     },
     "metadata": {
      "needs_background": "light"
     },
     "output_type": "display_data"
    }
   ],
   "source": [
    "#confusion matrix\n",
    "con_m1 = confusion_matrix(Test_Label,Prediction1)\n",
    "sns.heatmap(con_m1.T, square = True, annot=True, fmt = \"d\", xticklabels=set(Train_Label),yticklabels=set(Train_Label))\n",
    "plt.xlabel(\"true labels\")\n",
    "plt.ylabel(\"predicted label\")\n",
    "plt.savefig('confusion1.png')"
   ]
  },
  {
   "cell_type": "code",
   "execution_count": 192,
   "id": "212f2d4d",
   "metadata": {},
   "outputs": [],
   "source": [
    "#######second with title\n",
    "Content_title = dataset['title']"
   ]
  },
  {
   "cell_type": "code",
   "execution_count": 193,
   "id": "ec4700d4",
   "metadata": {},
   "outputs": [
    {
     "data": {
      "text/plain": [
       "str"
      ]
     },
     "execution_count": 193,
     "metadata": {},
     "output_type": "execute_result"
    }
   ],
   "source": [
    "type(Content_title[0])"
   ]
  },
  {
   "cell_type": "code",
   "execution_count": 194,
   "id": "a135ab50",
   "metadata": {},
   "outputs": [],
   "source": [
    "DTM2 = MyCount.fit_transform(Content_title.apply(lambda x: np.str_(x)))\n",
    "##Convert DTM to DF\n",
    "ColNames= MyCount.get_feature_names()\n",
    "\n",
    "\n",
    "DF2 = pd.DataFrame(DTM2.toarray(),columns=ColNames)"
   ]
  },
  {
   "cell_type": "code",
   "execution_count": 195,
   "id": "0441cdb8",
   "metadata": {},
   "outputs": [],
   "source": [
    "DF2['label'] = dataset['domain']"
   ]
  },
  {
   "cell_type": "code",
   "execution_count": 204,
   "id": "6146e701",
   "metadata": {},
   "outputs": [],
   "source": [
    "TrainDF2,TestDF2 = train_test_split(DF2,test_size=0.3)\n"
   ]
  },
  {
   "cell_type": "code",
   "execution_count": 205,
   "id": "d84948c0",
   "metadata": {},
   "outputs": [],
   "source": [
    "Train_Label2 = TrainDF2['label']\n",
    "Test_Label2 = TestDF2['label']\n",
    "Trainset2 = TrainDF2.drop(['label'],axis=1)\n",
    "Testset2 = TestDF2.drop(['label'],axis=1)"
   ]
  },
  {
   "cell_type": "code",
   "execution_count": 206,
   "id": "4cdf4f19",
   "metadata": {},
   "outputs": [
    {
     "data": {
      "text/plain": [
       "'Showerthoughts'"
      ]
     },
     "execution_count": 206,
     "metadata": {},
     "output_type": "execute_result"
    }
   ],
   "source": [
    "NB2=MyModelNB.fit(Trainset2, Train_Label2)\n",
    "Prediction2 = MyModelNB.predict(Testset2)\n",
    "Prediction2[0]"
   ]
  },
  {
   "cell_type": "code",
   "execution_count": 207,
   "id": "8e773863",
   "metadata": {},
   "outputs": [
    {
     "data": {
      "text/plain": [
       "0.7744648318042814"
      ]
     },
     "execution_count": 207,
     "metadata": {},
     "output_type": "execute_result"
    }
   ],
   "source": [
    "acc2 = accuracy_score(Test_Label2,Prediction2) #accuracy is 0.75\n",
    "acc2"
   ]
  },
  {
   "cell_type": "code",
   "execution_count": 208,
   "id": "f8f46afb",
   "metadata": {},
   "outputs": [
    {
     "data": {
      "text/plain": [
       "0.7483067158253591"
      ]
     },
     "execution_count": 208,
     "metadata": {},
     "output_type": "execute_result"
    }
   ],
   "source": [
    "f2 = f1_score(Test_Label2,Prediction2,average='weighted')\n",
    "f2"
   ]
  },
  {
   "cell_type": "code",
   "execution_count": 209,
   "id": "45953fab",
   "metadata": {},
   "outputs": [
    {
     "data": {
      "text/plain": [
       "{'AskReddit',\n",
       " 'GetMotivated',\n",
       " 'IAmA',\n",
       " 'Jokes',\n",
       " 'LifeProTips',\n",
       " 'Showerthoughts',\n",
       " 'books',\n",
       " 'explainlikeimfive',\n",
       " 'food',\n",
       " 'funny',\n",
       " 'movies',\n",
       " 'pics',\n",
       " 'todayilearned',\n",
       " 'woahdude',\n",
       " 'worldnews'}"
      ]
     },
     "execution_count": 209,
     "metadata": {},
     "output_type": "execute_result"
    }
   ],
   "source": [
    "set(Train_Label2)"
   ]
  },
  {
   "cell_type": "code",
   "execution_count": 210,
   "id": "63f04fc7",
   "metadata": {},
   "outputs": [
    {
     "data": {
      "image/png": "[encoded data removed]",
      "text/plain": [
       "<Figure size 432x288 with 1 Axes>"
      ]
     },
     "metadata": {
      "needs_background": "light"
     },
     "output_type": "display_data"
    }
   ],
   "source": [
    "prob2 = NB2.feature_log_prob_[8, :] #food\n",
    "\n",
    "indices = np.argsort(prob2)[::-1]\n",
    "prob2 = prob2[indices] #feature importance\n",
    "feature_names = ColNames\n",
    "feature_names = [feature_names[index] for index in indices.tolist()] #feature name\n",
    "\n",
    "plt.barh(feature_names[:10], prob2[:10],facecolor='seagreen',edgecolor='darkgreen',alpha=0.8)\n",
    "plt.title('Top 10 feature probability in Food label')\n",
    "plt.savefig('NB2.png')"
   ]
  },
  {
   "cell_type": "code",
   "execution_count": 211,
   "id": "4676890b",
   "metadata": {},
   "outputs": [
    {
     "data": {
      "image/png": "[encoded data removed]",
      "text/plain": [
       "<Figure size 432x288 with 2 Axes>"
      ]
     },
     "metadata": {
      "needs_background": "light"
     },
     "output_type": "display_data"
    }
   ],
   "source": [
    "#confusion matrix\n",
    "con_m2 = confusion_matrix(Test_Label2,Prediction2)\n",
    "sns.heatmap(con_m2.T, square = True, annot=True, fmt = \"d\", xticklabels=set(Train_Label2),yticklabels=set(Train_Label2))\n",
    "plt.xlabel(\"true labels\")\n",
    "plt.ylabel(\"predicted label\")\n",
    "plt.savefig('confusion2.png')"
   ]
  },
  {
   "cell_type": "code",
   "execution_count": 179,
   "id": "5df15fd5",
   "metadata": {},
   "outputs": [
    {
     "name": "stdout",
     "output_type": "stream",
     "text": [
      "Accuracy: 58.56%\n"
     ]
    }
   ],
   "source": [
    "print(\"Accuracy: %.2f%%\" % (acc1 * 100.0))"
   ]
  },
  {
   "cell_type": "code",
   "execution_count": null,
   "id": "1ed7efd9",
   "metadata": {},
   "outputs": [],
   "source": []
  }
 ],
 "metadata": {
  "kernelspec": {
   "display_name": "Python 3 (ipykernel)",
   "language": "python",
   "name": "python3"
  },
  "language_info": {
   "codemirror_mode": {
    "name": "ipython",
    "version": 3
   },
   "file_extension": ".py",
   "mimetype": "text/x-python",
   "name": "python",
   "nbconvert_exporter": "python",
   "pygments_lexer": "ipython3",
   "version": "3.9.7"
  }
 },
 "nbformat": 4,
 "nbformat_minor": 5
}
