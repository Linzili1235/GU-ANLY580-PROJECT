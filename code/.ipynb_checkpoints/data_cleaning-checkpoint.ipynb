{
 "cells": [
  {
   "cell_type": "code",
   "execution_count": 12,
   "id": "4857fa66",
   "metadata": {},
   "outputs": [],
   "source": [
    "# Data Cleaning\n",
    "import os\n",
    "import numpy as np\n",
    "import glob\n",
    "import pandas as pd\n",
    "os.chdir(\"/Users/pumpkin/Documents/Graduate_School/1st_Semester/ANLY_580/GU-ANLY580-PROJECT/raw_data\")"
   ]
  },
  {
   "cell_type": "code",
   "execution_count": 13,
   "id": "bb949853",
   "metadata": {},
   "outputs": [],
   "source": [
    "extension = 'csv'\n",
    "all_filenames = [i for i in glob.glob('*.{}'.format(extension))]"
   ]
  },
  {
   "cell_type": "code",
   "execution_count": 14,
   "id": "c1ca0aee",
   "metadata": {},
   "outputs": [],
   "source": [
    "#combine all files in the list\n",
    "combined_csv = pd.concat([pd.read_csv(f) for f in all_filenames ])"
   ]
  },
  {
   "cell_type": "code",
   "execution_count": 15,
   "id": "262712f1",
   "metadata": {},
   "outputs": [],
   "source": [
    "droppedDF = combined_csv.drop(['created_utc', 'score', 'id', 'ups', 'downs', 'num_comments', 'permalink',\n",
    "                  'over_18', 'thumbnail', 'subreddit_id', 'edited', 'link_flair_css_class', 'is_self',\n",
    "                  'name', 'url', 'author_flair_css_class', 'distinguished', 'link_flair_text'], axis = 1)\n",
    "droppedDF['domain'] = droppedDF['domain'].str[5: ]"
   ]
  },
  {
   "cell_type": "code",
   "execution_count": 16,
   "id": "e8c429d8",
   "metadata": {},
   "outputs": [
    {
     "data": {
      "text/html": [
       "<div>\n",
       "<style scoped>\n",
       "    .dataframe tbody tr th:only-of-type {\n",
       "        vertical-align: middle;\n",
       "    }\n",
       "\n",
       "    .dataframe tbody tr th {\n",
       "        vertical-align: top;\n",
       "    }\n",
       "\n",
       "    .dataframe thead th {\n",
       "        text-align: right;\n",
       "    }\n",
       "</style>\n",
       "<table border=\"1\" class=\"dataframe\">\n",
       "  <thead>\n",
       "    <tr style=\"text-align: right;\">\n",
       "      <th></th>\n",
       "      <th>domain</th>\n",
       "      <th>title</th>\n",
       "      <th>selftext</th>\n",
       "    </tr>\n",
       "  </thead>\n",
       "  <tbody>\n",
       "    <tr>\n",
       "      <th>0</th>\n",
       "      <td>explainlikeimfive</td>\n",
       "      <td>ELI5: What exactly is Obamacare and what did i...</td>\n",
       "      <td>I understand what medicare is and everything b...</td>\n",
       "    </tr>\n",
       "    <tr>\n",
       "      <th>1</th>\n",
       "      <td>explainlikeimfive</td>\n",
       "      <td>ELI5 has defaulted!</td>\n",
       "      <td>We were informed yesterday by the reddit admin...</td>\n",
       "    </tr>\n",
       "    <tr>\n",
       "      <th>2</th>\n",
       "      <td>explainlikeimfive</td>\n",
       "      <td>The Five-Year-Old's Guide to the Galaxy</td>\n",
       "      <td>Below is a hand-picked collection of outstandi...</td>\n",
       "    </tr>\n",
       "    <tr>\n",
       "      <th>3</th>\n",
       "      <td>explainlikeimfive</td>\n",
       "      <td>ELI67 Please explain like I'm 67 the differenc...</td>\n",
       "      <td>I know this kind of breaks the rules, but I th...</td>\n",
       "    </tr>\n",
       "    <tr>\n",
       "      <th>4</th>\n",
       "      <td>explainlikeimfive</td>\n",
       "      <td>[META] Okay, this sub is slowly turning into /...</td>\n",
       "      <td>Questions here are supposed to be covering com...</td>\n",
       "    </tr>\n",
       "    <tr>\n",
       "      <th>...</th>\n",
       "      <td>...</td>\n",
       "      <td>...</td>\n",
       "      <td>...</td>\n",
       "    </tr>\n",
       "    <tr>\n",
       "      <th>995</th>\n",
       "      <td>IAmA</td>\n",
       "      <td>I am Christine Ha, MasterChef Season 3 Winner....</td>\n",
       "      <td>I am Christine Ha.  I have an autoimmune condi...</td>\n",
       "    </tr>\n",
       "    <tr>\n",
       "      <th>996</th>\n",
       "      <td>IAmA</td>\n",
       "      <td>Reddit w/ Gov. Gary Johnson, Honorary Chairman...</td>\n",
       "      <td>WHO AM I? I am Gov. Gary Johnson, Honorary Cha...</td>\n",
       "    </tr>\n",
       "    <tr>\n",
       "      <th>997</th>\n",
       "      <td>IAmA</td>\n",
       "      <td>AMA Request - The White House staffer/Redditor...</td>\n",
       "      <td>- What is your position?  \\n- How far up the c...</td>\n",
       "    </tr>\n",
       "    <tr>\n",
       "      <th>998</th>\n",
       "      <td>IAmA</td>\n",
       "      <td>IAmA quadriplegic who games without the use of...</td>\n",
       "      <td>I broke my neck 5 years ago falling 18ft from ...</td>\n",
       "    </tr>\n",
       "    <tr>\n",
       "      <th>999</th>\n",
       "      <td>IAmA</td>\n",
       "      <td>Six years ago my wife and I sold everything an...</td>\n",
       "      <td>I'm a business owner and entrepreneur and I ha...</td>\n",
       "    </tr>\n",
       "  </tbody>\n",
       "</table>\n",
       "<p>17999 rows × 3 columns</p>\n",
       "</div>"
      ],
      "text/plain": [
       "                domain                                              title  \\\n",
       "0    explainlikeimfive  ELI5: What exactly is Obamacare and what did i...   \n",
       "1    explainlikeimfive                                ELI5 has defaulted!   \n",
       "2    explainlikeimfive            The Five-Year-Old's Guide to the Galaxy   \n",
       "3    explainlikeimfive  ELI67 Please explain like I'm 67 the differenc...   \n",
       "4    explainlikeimfive  [META] Okay, this sub is slowly turning into /...   \n",
       "..                 ...                                                ...   \n",
       "995               IAmA  I am Christine Ha, MasterChef Season 3 Winner....   \n",
       "996               IAmA  Reddit w/ Gov. Gary Johnson, Honorary Chairman...   \n",
       "997               IAmA  AMA Request - The White House staffer/Redditor...   \n",
       "998               IAmA  IAmA quadriplegic who games without the use of...   \n",
       "999               IAmA  Six years ago my wife and I sold everything an...   \n",
       "\n",
       "                                              selftext  \n",
       "0    I understand what medicare is and everything b...  \n",
       "1    We were informed yesterday by the reddit admin...  \n",
       "2    Below is a hand-picked collection of outstandi...  \n",
       "3    I know this kind of breaks the rules, but I th...  \n",
       "4    Questions here are supposed to be covering com...  \n",
       "..                                                 ...  \n",
       "995  I am Christine Ha.  I have an autoimmune condi...  \n",
       "996  WHO AM I? I am Gov. Gary Johnson, Honorary Cha...  \n",
       "997  - What is your position?  \\n- How far up the c...  \n",
       "998  I broke my neck 5 years ago falling 18ft from ...  \n",
       "999  I'm a business owner and entrepreneur and I ha...  \n",
       "\n",
       "[17999 rows x 3 columns]"
      ]
     },
     "execution_count": 16,
     "metadata": {},
     "output_type": "execute_result"
    }
   ],
   "source": [
    "droppedDF"
   ]
  },
  {
   "cell_type": "code",
   "execution_count": 17,
   "id": "38bc889c",
   "metadata": {},
   "outputs": [],
   "source": [
    "droppedDF = droppedDF.dropna()\n",
    "droppedDF.to_csv(\"/Users/pumpkin/Documents/Graduate_School/1st_Semester/ANLY_580/GU-ANLY580-PROJECT/cleaned_data/droppedDF.csv\")"
   ]
  }
 ],
 "metadata": {
  "kernelspec": {
   "display_name": "Python 3",
   "language": "python",
   "name": "python3"
  },
  "language_info": {
   "codemirror_mode": {
    "name": "ipython",
    "version": 3
   },
   "file_extension": ".py",
   "mimetype": "text/x-python",
   "name": "python",
   "nbconvert_exporter": "python",
   "pygments_lexer": "ipython3",
   "version": "3.8.8"
  }
 },
 "nbformat": 4,
 "nbformat_minor": 5
}
