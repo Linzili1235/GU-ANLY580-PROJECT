{
 "cells": [
  {
   "cell_type": "code",
   "execution_count": 1,
   "id": "4857fa66",
   "metadata": {},
   "outputs": [],
   "source": [
    "# Data Cleaning\n",
    "import os\n",
    "import numpy as np\n",
    "import glob\n",
    "import pandas as pd\n",
    "os.chdir(\"/Users/pumpkin/Documents/Graduate_School/1st_Semester/ANLY_580/GU-ANLY580-PROJECT/raw_data\")"
   ]
  },
  {
   "cell_type": "code",
   "execution_count": 2,
   "id": "bb949853",
   "metadata": {},
   "outputs": [],
   "source": [
    "# load all csv data\n",
    "extension = 'csv'\n",
    "all_filenames = [i for i in glob.glob('*.{}'.format(extension))]"
   ]
  },
  {
   "cell_type": "code",
   "execution_count": 3,
   "id": "c1ca0aee",
   "metadata": {},
   "outputs": [],
   "source": [
    "# combine all files in the list\n",
    "combined_csv = pd.concat([pd.read_csv(f) for f in all_filenames ])"
   ]
  },
  {
   "cell_type": "code",
   "execution_count": 4,
   "id": "262712f1",
   "metadata": {},
   "outputs": [],
   "source": [
    "# drop unnecessary columns\n",
    "droppedDF = combined_csv.drop(['created_utc', 'score', 'id', 'ups', 'downs', 'num_comments', 'permalink',\n",
    "                  'over_18', 'thumbnail', 'subreddit_id', 'edited', 'link_flair_css_class', 'is_self',\n",
    "                  'name', 'url', 'author_flair_css_class', 'distinguished', 'link_flair_text'], axis = 1)\n",
    "droppedDF['domain'] = droppedDF['domain'].str[5: ]"
   ]
  },
  {
   "cell_type": "code",
   "execution_count": 6,
   "id": "e8c429d8",
   "metadata": {},
   "outputs": [
    {
     "data": {
      "text/html": [
       "<div>\n",
       "<style scoped>\n",
       "    .dataframe tbody tr th:only-of-type {\n",
       "        vertical-align: middle;\n",
       "    }\n",
       "\n",
       "    .dataframe tbody tr th {\n",
       "        vertical-align: top;\n",
       "    }\n",
       "\n",
       "    .dataframe thead th {\n",
       "        text-align: right;\n",
       "    }\n",
       "</style>\n",
       "<table border=\"1\" class=\"dataframe\">\n",
       "  <thead>\n",
       "    <tr style=\"text-align: right;\">\n",
       "      <th></th>\n",
       "      <th>domain</th>\n",
       "      <th>title</th>\n",
       "      <th>selftext</th>\n",
       "    </tr>\n",
       "  </thead>\n",
       "  <tbody>\n",
       "    <tr>\n",
       "      <th>0</th>\n",
       "      <td>explainlikeimfive</td>\n",
       "      <td>ELI5: What exactly is Obamacare and what did i...</td>\n",
       "      <td>I understand what medicare is and everything b...</td>\n",
       "    </tr>\n",
       "    <tr>\n",
       "      <th>1</th>\n",
       "      <td>explainlikeimfive</td>\n",
       "      <td>ELI5 has defaulted!</td>\n",
       "      <td>We were informed yesterday by the reddit admin...</td>\n",
       "    </tr>\n",
       "    <tr>\n",
       "      <th>2</th>\n",
       "      <td>explainlikeimfive</td>\n",
       "      <td>The Five-Year-Old's Guide to the Galaxy</td>\n",
       "      <td>Below is a hand-picked collection of outstandi...</td>\n",
       "    </tr>\n",
       "    <tr>\n",
       "      <th>3</th>\n",
       "      <td>explainlikeimfive</td>\n",
       "      <td>ELI67 Please explain like I'm 67 the differenc...</td>\n",
       "      <td>I know this kind of breaks the rules, but I th...</td>\n",
       "    </tr>\n",
       "    <tr>\n",
       "      <th>4</th>\n",
       "      <td>explainlikeimfive</td>\n",
       "      <td>[META] Okay, this sub is slowly turning into /...</td>\n",
       "      <td>Questions here are supposed to be covering com...</td>\n",
       "    </tr>\n",
       "    <tr>\n",
       "      <th>5</th>\n",
       "      <td>explainlikeimfive</td>\n",
       "      <td>For ELI5 comments, could we possibly adopt r/s...</td>\n",
       "      <td>http://i.imgur.com/ZApmv.png\\n\\nI enjoy a good...</td>\n",
       "    </tr>\n",
       "    <tr>\n",
       "      <th>6</th>\n",
       "      <td>explainlikeimfive</td>\n",
       "      <td>ELI5: Why don't journalists simply quote Obama...</td>\n",
       "      <td>NaN</td>\n",
       "    </tr>\n",
       "    <tr>\n",
       "      <th>7</th>\n",
       "      <td>explainlikeimfive</td>\n",
       "      <td>ELI5: WTF was the Architect was trying to tell...</td>\n",
       "      <td>Like seriously, I've been watching this movie ...</td>\n",
       "    </tr>\n",
       "    <tr>\n",
       "      <th>8</th>\n",
       "      <td>explainlikeimfive</td>\n",
       "      <td>Congratulations LI5, you are the fastest growi...</td>\n",
       "      <td>The previous record was held by [/r/shutupandt...</td>\n",
       "    </tr>\n",
       "    <tr>\n",
       "      <th>9</th>\n",
       "      <td>explainlikeimfive</td>\n",
       "      <td>What is a 401k and why is my job offering it t...</td>\n",
       "      <td>Edit: thank you all for helping me. I find the...</td>\n",
       "    </tr>\n",
       "  </tbody>\n",
       "</table>\n",
       "</div>"
      ],
      "text/plain": [
       "              domain                                              title  \\\n",
       "0  explainlikeimfive  ELI5: What exactly is Obamacare and what did i...   \n",
       "1  explainlikeimfive                                ELI5 has defaulted!   \n",
       "2  explainlikeimfive            The Five-Year-Old's Guide to the Galaxy   \n",
       "3  explainlikeimfive  ELI67 Please explain like I'm 67 the differenc...   \n",
       "4  explainlikeimfive  [META] Okay, this sub is slowly turning into /...   \n",
       "5  explainlikeimfive  For ELI5 comments, could we possibly adopt r/s...   \n",
       "6  explainlikeimfive  ELI5: Why don't journalists simply quote Obama...   \n",
       "7  explainlikeimfive  ELI5: WTF was the Architect was trying to tell...   \n",
       "8  explainlikeimfive  Congratulations LI5, you are the fastest growi...   \n",
       "9  explainlikeimfive  What is a 401k and why is my job offering it t...   \n",
       "\n",
       "                                            selftext  \n",
       "0  I understand what medicare is and everything b...  \n",
       "1  We were informed yesterday by the reddit admin...  \n",
       "2  Below is a hand-picked collection of outstandi...  \n",
       "3  I know this kind of breaks the rules, but I th...  \n",
       "4  Questions here are supposed to be covering com...  \n",
       "5  http://i.imgur.com/ZApmv.png\\n\\nI enjoy a good...  \n",
       "6                                                NaN  \n",
       "7  Like seriously, I've been watching this movie ...  \n",
       "8  The previous record was held by [/r/shutupandt...  \n",
       "9  Edit: thank you all for helping me. I find the...  "
      ]
     },
     "execution_count": 6,
     "metadata": {},
     "output_type": "execute_result"
    }
   ],
   "source": [
    "# show first ten entries for inspection\n",
    "droppedDF[:10]"
   ]
  },
  {
   "cell_type": "code",
   "execution_count": 17,
   "id": "38bc889c",
   "metadata": {},
   "outputs": [],
   "source": [
    "# drop na and save the document locally\n",
    "droppedDF = droppedDF.dropna()\n",
    "droppedDF.to_csv(\"/Users/pumpkin/Documents/Graduate_School/1st_Semester/ANLY_580/GU-ANLY580-PROJECT/cleaned_data/droppedDF.csv\")"
   ]
  }
 ],
 "metadata": {
  "kernelspec": {
   "display_name": "Python 3",
   "language": "python",
   "name": "python3"
  },
  "language_info": {
   "codemirror_mode": {
    "name": "ipython",
    "version": 3
   },
   "file_extension": ".py",
   "mimetype": "text/x-python",
   "name": "python",
   "nbconvert_exporter": "python",
   "pygments_lexer": "ipython3",
   "version": "3.8.8"
  }
 },
 "nbformat": 4,
 "nbformat_minor": 5
}
